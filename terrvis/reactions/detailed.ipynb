{
 "cells": [
  {
   "cell_type": "markdown",
   "source": [
    "detailed info dig"
   ],
   "metadata": {
    "collapsed": false
   }
  },
  {
   "cell_type": "code",
   "execution_count": 4,
   "outputs": [
    {
     "name": "stdout",
     "output_type": "stream",
     "text": [
      "Index(['eventid', 'iyear', 'imonth', 'iday', 'approxdate', 'extended',\n",
      "       'resolution', 'country', 'country_txt', 'region',\n",
      "       ...\n",
      "       'addnotes', 'scite1', 'scite2', 'scite3', 'dbsource', 'INT_LOG',\n",
      "       'INT_IDEO', 'INT_MISC', 'INT_ANY', 'related'],\n",
      "      dtype='object', length=135)\n",
      "<class 'pandas.core.frame.DataFrame'>\n",
      "RangeIndex: 209706 entries, 0 to 209705\n",
      "Columns: 135 entries, eventid to related\n",
      "dtypes: datetime64[ns](1), float64(54), int64(23), object(57)\n",
      "memory usage: 216.0+ MB\n"
     ]
    }
   ],
   "source": [
    "import pandas as pd\n",
    "df = pd.read_excel('../data/data_2020.xlsx')\n",
    "print(df.columns)\n",
    "df.info()"
   ],
   "metadata": {
    "collapsed": false,
    "pycharm": {
     "name": "#%%\n"
    }
   }
  },
  {
   "cell_type": "code",
   "execution_count": 2,
   "outputs": [
    {
     "ename": "NameError",
     "evalue": "name 'df' is not defined",
     "output_type": "error",
     "traceback": [
      "\u001B[1;31m---------------------------------------------------------------------------\u001B[0m",
      "\u001B[1;31mNameError\u001B[0m                                 Traceback (most recent call last)",
      "Cell \u001B[1;32mIn[2], line 1\u001B[0m\n\u001B[1;32m----> 1\u001B[0m \u001B[43mdf\u001B[49m\u001B[38;5;241m.\u001B[39minfo()\n",
      "\u001B[1;31mNameError\u001B[0m: name 'df' is not defined"
     ]
    }
   ],
   "source": [
    "df.info()"
   ],
   "metadata": {
    "collapsed": false,
    "pycharm": {
     "name": "#%%\n"
    }
   }
  },
  {
   "cell_type": "code",
   "execution_count": 61,
   "outputs": [],
   "source": [
    "df1 = df[['country','country_txt','region','region_txt','iyear']]"
   ],
   "metadata": {
    "collapsed": false,
    "pycharm": {
     "name": "#%%\n"
    }
   }
  },
  {
   "cell_type": "code",
   "execution_count": 14,
   "outputs": [
    {
     "ename": "AttributeError",
     "evalue": "'DataFrame' object has no attribute 'tolist'",
     "output_type": "error",
     "traceback": [
      "\u001B[1;31m---------------------------------------------------------------------------\u001B[0m",
      "\u001B[1;31mAttributeError\u001B[0m                            Traceback (most recent call last)",
      "Cell \u001B[1;32mIn[14], line 1\u001B[0m\n\u001B[1;32m----> 1\u001B[0m \u001B[38;5;28mprint\u001B[39m(\u001B[43mdf\u001B[49m\u001B[43m[\u001B[49m\u001B[43m[\u001B[49m\u001B[38;5;124;43m'\u001B[39;49m\u001B[38;5;124;43miyear\u001B[39;49m\u001B[38;5;124;43m'\u001B[39;49m\u001B[43m]\u001B[49m\u001B[43m]\u001B[49m\u001B[38;5;241;43m.\u001B[39;49m\u001B[43mtolist\u001B[49m())\n",
      "File \u001B[1;32m~\\AppData\\Local\\Programs\\Python\\Python39\\lib\\site-packages\\pandas\\core\\generic.py:5902\u001B[0m, in \u001B[0;36mNDFrame.__getattr__\u001B[1;34m(self, name)\u001B[0m\n\u001B[0;32m   5895\u001B[0m \u001B[38;5;28;01mif\u001B[39;00m (\n\u001B[0;32m   5896\u001B[0m     name \u001B[38;5;129;01mnot\u001B[39;00m \u001B[38;5;129;01min\u001B[39;00m \u001B[38;5;28mself\u001B[39m\u001B[38;5;241m.\u001B[39m_internal_names_set\n\u001B[0;32m   5897\u001B[0m     \u001B[38;5;129;01mand\u001B[39;00m name \u001B[38;5;129;01mnot\u001B[39;00m \u001B[38;5;129;01min\u001B[39;00m \u001B[38;5;28mself\u001B[39m\u001B[38;5;241m.\u001B[39m_metadata\n\u001B[0;32m   5898\u001B[0m     \u001B[38;5;129;01mand\u001B[39;00m name \u001B[38;5;129;01mnot\u001B[39;00m \u001B[38;5;129;01min\u001B[39;00m \u001B[38;5;28mself\u001B[39m\u001B[38;5;241m.\u001B[39m_accessors\n\u001B[0;32m   5899\u001B[0m     \u001B[38;5;129;01mand\u001B[39;00m \u001B[38;5;28mself\u001B[39m\u001B[38;5;241m.\u001B[39m_info_axis\u001B[38;5;241m.\u001B[39m_can_hold_identifiers_and_holds_name(name)\n\u001B[0;32m   5900\u001B[0m ):\n\u001B[0;32m   5901\u001B[0m     \u001B[38;5;28;01mreturn\u001B[39;00m \u001B[38;5;28mself\u001B[39m[name]\n\u001B[1;32m-> 5902\u001B[0m \u001B[38;5;28;01mreturn\u001B[39;00m \u001B[38;5;28;43mobject\u001B[39;49m\u001B[38;5;241;43m.\u001B[39;49m\u001B[38;5;21;43m__getattribute__\u001B[39;49m\u001B[43m(\u001B[49m\u001B[38;5;28;43mself\u001B[39;49m\u001B[43m,\u001B[49m\u001B[43m \u001B[49m\u001B[43mname\u001B[49m\u001B[43m)\u001B[49m\n",
      "\u001B[1;31mAttributeError\u001B[0m: 'DataFrame' object has no attribute 'tolist'"
     ]
    }
   ],
   "source": [
    "print(df[['iyear']].tolist())"
   ],
   "metadata": {
    "collapsed": false,
    "pycharm": {
     "name": "#%%\n"
    }
   }
  },
  {
   "cell_type": "code",
   "execution_count": null,
   "outputs": [],
   "source": [
    "iraq = df.loc[(df1['country_txt'] == 'Iraq') &(df['iyear']>=2001) ]\n",
    "print(iraq)"
   ],
   "metadata": {
    "collapsed": false,
    "pycharm": {
     "name": "#%%\n"
    }
   }
  },
  {
   "cell_type": "code",
   "execution_count": 7,
   "outputs": [
    {
     "name": "stdout",
     "output_type": "stream",
     "text": [
      "             eventid  iyear  imonth  iday approxdate  extended resolution  \\\n",
      "2853    197503010002   1975       3     1        NaN         0        NaT   \n",
      "4384    197612150001   1976      12    15        NaN         0        NaT   \n",
      "4392    197612180001   1976      12    18        NaN         1 1977-03-29   \n",
      "4401    197612240001   1976      12    24        NaN         0        NaT   \n",
      "8687    197906150001   1979       6    15        NaN         0        NaT   \n",
      "...              ...    ...     ...   ...        ...       ...        ...   \n",
      "209669  202012290033   2020      12    29        NaN         0        NaT   \n",
      "209670  202012290034   2020      12    29        NaN         0        NaT   \n",
      "209671  202012290035   2020      12    29        NaN         0        NaT   \n",
      "209694  202012310007   2020      12    31        NaN         0        NaT   \n",
      "209696  202012310009   2020      12    31        NaN         0        NaT   \n",
      "\n",
      "        country country_txt  region  ...  \\\n",
      "2853         95        Iraq      10  ...   \n",
      "4384         95        Iraq      10  ...   \n",
      "4392         95        Iraq      10  ...   \n",
      "4401         95        Iraq      10  ...   \n",
      "8687         95        Iraq      10  ...   \n",
      "...         ...         ...     ...  ...   \n",
      "209669       95        Iraq      10  ...   \n",
      "209670       95        Iraq      10  ...   \n",
      "209671       95        Iraq      10  ...   \n",
      "209694       95        Iraq      10  ...   \n",
      "209696       95        Iraq      10  ...   \n",
      "\n",
      "                                                 addnotes  \\\n",
      "2853                                                  NaN   \n",
      "4384                                                  NaN   \n",
      "4392                                                  NaN   \n",
      "4401                                                  NaN   \n",
      "8687                                                  NaN   \n",
      "...                                                   ...   \n",
      "209669  Casualties represent a division of the total n...   \n",
      "209670  Casualties represent a division of the total n...   \n",
      "209671  Casualties represent a division of the total n...   \n",
      "209694                                                NaN   \n",
      "209696                                                NaN   \n",
      "\n",
      "                                                   scite1  \\\n",
      "2853                                                  NaN   \n",
      "4384                                                  NaN   \n",
      "4392                                                  NaN   \n",
      "4401                                                  NaN   \n",
      "8687                                                  NaN   \n",
      "...                                                   ...   \n",
      "209669  \"ISHM: DECEMBER 24 - JANUARY 7, 2021,\" Enablin...   \n",
      "209670  \"ISHM: DECEMBER 24 - JANUARY 7, 2021,\" Enablin...   \n",
      "209671  \"ISHM: DECEMBER 24 - JANUARY 7, 2021,\" Enablin...   \n",
      "209694  \"Bomb reportedly targets US-led coalition conv...   \n",
      "209696  \"Iraq experts work to defuse mine on oil tanke...   \n",
      "\n",
      "                                                   scite2  \\\n",
      "2853                                                  NaN   \n",
      "4384                                                  NaN   \n",
      "4392                                                  NaN   \n",
      "4401                                                  NaN   \n",
      "8687                                                  NaN   \n",
      "...                                                   ...   \n",
      "209669  \"Iraq Daily Roundup: 12 Killed,\" Antiwar.com, ...   \n",
      "209670  \"Iraq Daily Roundup: 12 Killed,\" Antiwar.com, ...   \n",
      "209671  \"Iraq Daily Roundup: 12 Killed,\" Antiwar.com, ...   \n",
      "209694  \"Iraq tightens security in Green Zone amid ‘an...   \n",
      "209696  \"UPDATE 1-Iraq evacuates oil tanker after mine...   \n",
      "\n",
      "                                                   scite3  \\\n",
      "2853                                                  NaN   \n",
      "4384                                                  NaN   \n",
      "4392                                                  NaN   \n",
      "4401                                                  NaN   \n",
      "8687                                                  NaN   \n",
      "...                                                   ...   \n",
      "209669  \"Iraq Daily Roundup: 12 Killed,\" Antiwar.com, ...   \n",
      "209670                                                NaN   \n",
      "209671                                                NaN   \n",
      "209694  \"Bomb blast targets US-led coalition military ...   \n",
      "209696  \"Iraq defuses mine attached to Iraqi oil tanke...   \n",
      "\n",
      "                        dbsource  INT_LOG  INT_IDEO INT_MISC INT_ANY  \\\n",
      "2853                Hijacking DB       -9        -9        0      -9   \n",
      "4384                        PGIS       -9        -9        0      -9   \n",
      "4392                        PGIS        0         1        1       1   \n",
      "4401                        PGIS       -9        -9        1       1   \n",
      "8687                        PGIS       -9        -9        0      -9   \n",
      "...                          ...      ...       ...      ...     ...   \n",
      "209669  START Primary Collection        0         1        0       1   \n",
      "209670  START Primary Collection        0         1        0       1   \n",
      "209671  START Primary Collection        0         1        0       1   \n",
      "209694  START Primary Collection       -9        -9        1       1   \n",
      "209696  START Primary Collection       -9        -9        0      -9   \n",
      "\n",
      "                                                  related  \n",
      "2853                                                  NaN  \n",
      "4384                                                  NaN  \n",
      "4392                                                  NaN  \n",
      "4401                                                  NaN  \n",
      "8687                                                  NaN  \n",
      "...                                                   ...  \n",
      "209669  202012290032, 202012290033, 202012290034, 2020...  \n",
      "209670  202012290032, 202012290033, 202012290034, 2020...  \n",
      "209671  202012290032, 202012290033, 202012290034, 2020...  \n",
      "209694                                                NaN  \n",
      "209696                                                NaN  \n",
      "\n",
      "[27521 rows x 135 columns]\n"
     ]
    }
   ],
   "source": [
    "iraq = df.loc[(df['country_txt'] == 'Iraq')]\n",
    "print(iraq)"
   ],
   "metadata": {
    "collapsed": false,
    "pycharm": {
     "name": "#%%\n"
    }
   }
  },
  {
   "cell_type": "code",
   "execution_count": 13,
   "outputs": [
    {
     "name": "stdout",
     "output_type": "stream",
     "text": [
      "iyear\n",
      "1975       1\n",
      "1976       3\n",
      "1979       2\n",
      "1980       6\n",
      "1981       3\n",
      "1982       5\n",
      "1983       3\n",
      "1984       2\n",
      "1987       3\n",
      "1988       4\n",
      "1989       4\n",
      "1991       3\n",
      "1992      35\n",
      "1994      18\n",
      "1995      17\n",
      "1996      12\n",
      "1997      21\n",
      "1998       7\n",
      "1999      12\n",
      "2000      10\n",
      "2001       3\n",
      "2002       6\n",
      "2003     102\n",
      "2004     323\n",
      "2005     617\n",
      "2006     837\n",
      "2007    1045\n",
      "2008    1106\n",
      "2009    1137\n",
      "2010    1179\n",
      "2011    1308\n",
      "2012    1435\n",
      "2013    2852\n",
      "2014    3934\n",
      "2015    2751\n",
      "2016    3395\n",
      "2017    2548\n",
      "2018    1364\n",
      "2019     644\n",
      "2020     764\n",
      "dtype: int64\n"
     ]
    }
   ],
   "source": [
    "iraq_year = iraq.groupby('iyear').size()\n",
    "print(iraq_year)"
   ],
   "metadata": {
    "collapsed": false,
    "pycharm": {
     "name": "#%%\n"
    }
   }
  },
  {
   "cell_type": "code",
   "execution_count": 64,
   "outputs": [
    {
     "name": "stdout",
     "output_type": "stream",
     "text": [
      "114183\n",
      "0.21451529562194022\n",
      "0.27888890876245326\n"
     ]
    }
   ],
   "source": [
    "nkill = df['nkill'].sum()\n",
    "nwound = df['nwound'].sum()\n",
    "nattack = df['eventid'].count()\n",
    "print(nattack)\n",
    "df_country = df.loc[(df1['country_txt'] == 'Iraq')]\n",
    "nattack_country = df_country['eventid'].count()\n",
    "nkill_country = df_country['nkill'].sum()\n",
    "nwound_country = df_country['nwound'].sum()\n",
    "print(nattack_country/nattack)\n",
    "print(nkill_country/nkill)"
   ],
   "metadata": {
    "collapsed": false,
    "pycharm": {
     "name": "#%%\n"
    }
   }
  },
  {
   "cell_type": "code",
   "execution_count": 65,
   "outputs": [
    {
     "name": "stdout",
     "output_type": "stream",
     "text": [
      "['Sub-Saharan Africa' 'Eastern Europe' 'Western Europe'\n",
      " 'Middle East & North Africa' 'South America' 'South Asia'\n",
      " 'Southeast Asia' 'North America' 'East Asia' 'Central Asia'\n",
      " 'Australasia & Oceania' 'Central America & Caribbean']\n"
     ]
    }
   ],
   "source": [
    "region_list = df['region_txt'].unique()\n",
    "print(region_list)"
   ],
   "metadata": {
    "collapsed": false,
    "pycharm": {
     "name": "#%%\n"
    }
   }
  },
  {
   "cell_type": "code",
   "execution_count": 2,
   "outputs": [],
   "source": [
    "country_list = df['country_txt'].unique()"
   ],
   "metadata": {
    "collapsed": false,
    "pycharm": {
     "name": "#%%\n"
    }
   }
  },
  {
   "cell_type": "code",
   "execution_count": 5,
   "outputs": [
    {
     "name": "stdout",
     "output_type": "stream",
     "text": [
      "['Iraq', 'Afghanistan', 'Pakistan', 'India', 'Colombia', 'Philippines', 'Yemen', 'Peru', 'Nigeria', 'United Kingdom', 'Somalia', 'El Salvador', 'Turkey', 'Thailand', 'Spain', 'United States', 'Sri Lanka', 'Syria', 'Algeria', 'France']\n"
     ]
    }
   ],
   "source": [
    "# 计算 eventid 的总和并重置索引\n",
    "df_country2_sum = df.groupby('country_txt')['eventid'].sum().reset_index()\n",
    "\n",
    "# 按总和降序排序并抽取前18个\n",
    "df_country2_top18 = df_country2_sum.sort_values('eventid', ascending=False).head(20)\n",
    "\n",
    "# 提取前18个国家的名称并输出结果\n",
    "top18_countries = df_country2_top18['country_txt'].tolist()\n",
    "print(top18_countries)"
   ],
   "metadata": {
    "collapsed": false,
    "pycharm": {
     "name": "#%%\n"
    }
   }
  },
  {
   "cell_type": "code",
   "execution_count": 6,
   "outputs": [
    {
     "name": "stdout",
     "output_type": "stream",
     "text": [
      "\"total\":\n",
      "{\"1970\": 651, \"1971\": 471, \"1972\": 567, \"1973\": 473, \"1974\": 581, \"1975\": 740, \"1976\": 923, \"1977\": 1319, \"1978\": 1526, \"1979\": 2662, \"1980\": 2661, \"1981\": 2586, \"1982\": 2543, \"1983\": 2870, \"1984\": 3495, \"1985\": 2914, \"1986\": 2860, \"1987\": 3183, \"1988\": 3720, \"1989\": 4324, \"1990\": 3886, \"1991\": 4685, \"1992\": 5071, \"1994\": 3456, \"1995\": 3081, \"1996\": 3058, \"1997\": 3198, \"1998\": 934, \"1999\": 1396, \"2000\": 1823, \"2001\": 1912, \"2002\": 1330, \"2003\": 1280, \"2004\": 1164, \"2005\": 2017, \"2006\": 2757, \"2007\": 3250, \"2008\": 4801, \"2009\": 4723, \"2010\": 4827, \"2011\": 5075, \"2012\": 8525, \"2013\": 12047, \"2014\": 16960, \"2015\": 15138, \"2016\": 14051, \"2017\": 11364, \"2018\": 9853, \"2019\": 8537, \"2020\": 8438},\n",
      "\"Iraq\":\n",
      "{\"1975\": 1, \"1976\": 3, \"1979\": 2, \"1980\": 6, \"1981\": 3, \"1982\": 5, \"1983\": 3, \"1984\": 2, \"1987\": 3, \"1988\": 4, \"1989\": 4, \"1991\": 3, \"1992\": 35, \"1994\": 18, \"1995\": 17, \"1996\": 12, \"1997\": 21, \"1998\": 7, \"1999\": 12, \"2000\": 10, \"2001\": 3, \"2002\": 6, \"2003\": 102, \"2004\": 323, \"2005\": 617, \"2006\": 837, \"2007\": 1045, \"2008\": 1106, \"2009\": 1137, \"2010\": 1179, \"2011\": 1308, \"2012\": 1435, \"2013\": 2852, \"2014\": 3934, \"2015\": 2751, \"2016\": 3395, \"2017\": 2548, \"2018\": 1364, \"2019\": 644, \"2020\": 764},\n",
      "\"Afghanistan\":\n",
      "{\"1973\": 1, \"1979\": 3, \"1987\": 1, \"1988\": 11, \"1989\": 10, \"1990\": 2, \"1991\": 30, \"1992\": 36, \"1994\": 9, \"1995\": 6, \"1996\": 4, \"1997\": 1, \"1998\": 1, \"1999\": 9, \"2000\": 14, \"2001\": 14, \"2002\": 38, \"2003\": 100, \"2004\": 88, \"2005\": 155, \"2006\": 283, \"2007\": 342, \"2008\": 414, \"2009\": 503, \"2010\": 542, \"2011\": 421, \"2012\": 1469, \"2013\": 1443, \"2014\": 1824, \"2015\": 1928, \"2016\": 1616, \"2017\": 1415, \"2018\": 1777, \"2019\": 1806, \"2020\": 2604},\n",
      "\"Pakistan\":\n",
      "{\"1970\": 1, \"1974\": 2, \"1975\": 2, \"1976\": 3, \"1978\": 2, \"1979\": 7, \"1980\": 1, \"1981\": 4, \"1982\": 4, \"1983\": 9, \"1984\": 3, \"1985\": 2, \"1986\": 24, \"1987\": 60, \"1988\": 44, \"1989\": 45, \"1990\": 87, \"1991\": 150, \"1992\": 85, \"1994\": 154, \"1995\": 666, \"1996\": 180, \"1997\": 206, \"1998\": 37, \"1999\": 39, \"2000\": 49, \"2001\": 53, \"2002\": 46, \"2003\": 29, \"2004\": 67, \"2005\": 77, \"2006\": 164, \"2007\": 260, \"2008\": 568, \"2009\": 667, \"2010\": 713, \"2011\": 1012, \"2012\": 1655, \"2013\": 2215, \"2014\": 2149, \"2015\": 1243, \"2016\": 864, \"2017\": 719, \"2018\": 480, \"2019\": 363, \"2020\": 294},\n",
      "\"India\":\n",
      "{\"1972\": 1, \"1975\": 1, \"1976\": 1, \"1977\": 1, \"1979\": 20, \"1980\": 10, \"1981\": 16, \"1982\": 13, \"1983\": 47, \"1984\": 159, \"1985\": 39, \"1986\": 96, \"1987\": 166, \"1988\": 358, \"1989\": 324, \"1990\": 349, \"1991\": 339, \"1992\": 237, \"1994\": 107, \"1995\": 179, \"1996\": 213, \"1997\": 193, \"1998\": 61, \"1999\": 112, \"2000\": 180, \"2001\": 234, \"2002\": 184, \"2003\": 196, \"2004\": 108, \"2005\": 146, \"2006\": 167, \"2007\": 150, \"2008\": 535, \"2009\": 672, \"2010\": 663, \"2011\": 645, \"2012\": 613, \"2013\": 694, \"2014\": 860, \"2015\": 885, \"2016\": 1027, \"2017\": 967, \"2018\": 889, \"2019\": 622, \"2020\": 450},\n",
      "\"Colombia\":\n",
      "{\"1970\": 1, \"1972\": 2, \"1973\": 6, \"1975\": 10, \"1976\": 22, \"1977\": 80, \"1978\": 158, \"1979\": 140, \"1980\": 141, \"1981\": 172, \"1982\": 222, \"1983\": 234, \"1984\": 237, \"1985\": 382, \"1986\": 307, \"1987\": 337, \"1988\": 427, \"1989\": 492, \"1990\": 349, \"1991\": 420, \"1992\": 523, \"1994\": 201, \"1995\": 123, \"1996\": 409, \"1997\": 598, \"1998\": 94, \"1999\": 116, \"2000\": 137, \"2001\": 207, \"2002\": 150, \"2003\": 98, \"2004\": 37, \"2005\": 42, \"2006\": 43, \"2007\": 30, \"2008\": 133, \"2009\": 138, \"2010\": 136, \"2011\": 94, \"2012\": 115, \"2013\": 149, \"2014\": 231, \"2015\": 136, \"2016\": 110, \"2017\": 119, \"2018\": 206, \"2019\": 230, \"2020\": 171},\n",
      "\"Philippines\":\n",
      "{\"1970\": 10, \"1971\": 4, \"1972\": 7, \"1974\": 1, \"1975\": 4, \"1976\": 10, \"1977\": 2, \"1978\": 36, \"1979\": 50, \"1980\": 60, \"1981\": 31, \"1982\": 38, \"1983\": 16, \"1984\": 43, \"1985\": 124, \"1986\": 80, \"1987\": 160, \"1988\": 210, \"1989\": 156, \"1990\": 320, \"1991\": 162, \"1992\": 162, \"1994\": 72, \"1995\": 63, \"1996\": 61, \"1997\": 57, \"1998\": 18, \"1999\": 31, \"2000\": 132, \"2001\": 50, \"2002\": 48, \"2003\": 107, \"2004\": 31, \"2005\": 25, \"2006\": 58, \"2007\": 65, \"2008\": 276, \"2009\": 229, \"2010\": 204, \"2011\": 151, \"2012\": 249, \"2013\": 651, \"2014\": 597, \"2015\": 721, \"2016\": 632, \"2017\": 695, \"2018\": 601, \"2019\": 467, \"2020\": 294},\n",
      "\"Yemen\":\n",
      "{\"1991\": 5, \"1992\": 24, \"1994\": 19, \"1995\": 8, \"1996\": 8, \"1997\": 19, \"1998\": 7, \"1999\": 17, \"2000\": 10, \"2001\": 7, \"2002\": 7, \"2003\": 7, \"2005\": 7, \"2006\": 5, \"2007\": 7, \"2008\": 22, \"2009\": 23, \"2010\": 112, \"2011\": 118, \"2012\": 313, \"2013\": 435, \"2014\": 814, \"2015\": 818, \"2016\": 917, \"2017\": 531, \"2018\": 498, \"2019\": 795, \"2020\": 474},\n",
      "\"Peru\":\n",
      "{\"1973\": 3, \"1974\": 3, \"1975\": 2, \"1977\": 4, \"1978\": 4, \"1979\": 3, \"1980\": 64, \"1981\": 149, \"1982\": 350, \"1983\": 536, \"1984\": 592, \"1985\": 352, \"1986\": 568, \"1987\": 627, \"1988\": 355, \"1989\": 630, \"1990\": 495, \"1991\": 658, \"1992\": 383, \"1994\": 91, \"1995\": 44, \"1996\": 42, \"1997\": 58, \"1998\": 5, \"1999\": 5, \"2000\": 3, \"2001\": 3, \"2002\": 2, \"2003\": 1, \"2004\": 3, \"2005\": 2, \"2006\": 1, \"2007\": 4, \"2008\": 1, \"2009\": 4, \"2012\": 9, \"2013\": 13, \"2014\": 12, \"2015\": 10, \"2016\": 4, \"2017\": 8, \"2018\": 5, \"2019\": 1, \"2020\": 2},\n",
      "\"Nigeria\":\n",
      "{\"1976\": 1, \"1980\": 1, \"1983\": 3, \"1988\": 2, \"1991\": 3, \"1992\": 11, \"1994\": 8, \"1995\": 1, \"1996\": 11, \"1997\": 20, \"1998\": 2, \"1999\": 18, \"2000\": 6, \"2001\": 5, \"2002\": 6, \"2003\": 9, \"2004\": 6, \"2005\": 9, \"2006\": 37, \"2007\": 61, \"2008\": 76, \"2009\": 42, \"2010\": 63, \"2011\": 175, \"2012\": 615, \"2013\": 347, \"2014\": 713, \"2015\": 641, \"2016\": 535, \"2017\": 488, \"2018\": 650, \"2019\": 507, \"2020\": 478},\n",
      "\"United Kingdom\":\n",
      "{\"1970\": 12, \"1971\": 81, \"1972\": 292, \"1973\": 189, \"1974\": 203, \"1975\": 194, \"1976\": 194, \"1977\": 140, \"1978\": 100, \"1979\": 239, \"1980\": 134, \"1981\": 142, \"1982\": 95, \"1983\": 177, \"1984\": 145, \"1985\": 67, \"1986\": 95, \"1987\": 117, \"1988\": 180, \"1989\": 163, \"1990\": 147, \"1991\": 262, \"1992\": 274, \"1994\": 256, \"1995\": 22, \"1996\": 36, \"1997\": 78, \"1998\": 63, \"1999\": 76, \"2000\": 61, \"2001\": 94, \"2002\": 21, \"2003\": 23, \"2004\": 5, \"2005\": 29, \"2006\": 6, \"2007\": 24, \"2008\": 39, \"2009\": 23, \"2010\": 57, \"2011\": 47, \"2012\": 54, \"2013\": 136, \"2014\": 104, \"2015\": 114, \"2016\": 104, \"2017\": 123, \"2018\": 101, \"2019\": 85, \"2020\": 90},\n",
      "\"Somalia\":\n",
      "{\"1975\": 1, \"1980\": 1, \"1981\": 8, \"1983\": 1, \"1984\": 2, \"1987\": 1, \"1988\": 2, \"1989\": 2, \"1990\": 12, \"1991\": 8, \"1992\": 21, \"1994\": 57, \"1995\": 13, \"1996\": 16, \"1997\": 19, \"1998\": 1, \"1999\": 4, \"2000\": 9, \"2001\": 5, \"2002\": 3, \"2003\": 1, \"2004\": 1, \"2005\": 6, \"2006\": 10, \"2007\": 156, \"2008\": 172, \"2009\": 122, \"2010\": 130, \"2011\": 185, \"2012\": 325, \"2013\": 342, \"2014\": 872, \"2015\": 422, \"2016\": 602, \"2017\": 617, \"2018\": 527, \"2019\": 361, \"2020\": 280},\n",
      "\"El Salvador\":\n",
      "{\"1972\": 2, \"1973\": 1, \"1974\": 3, \"1975\": 3, \"1976\": 13, \"1977\": 6, \"1978\": 91, \"1979\": 326, \"1980\": 710, \"1981\": 664, \"1982\": 537, \"1983\": 371, \"1984\": 273, \"1985\": 436, \"1986\": 175, \"1987\": 234, \"1988\": 367, \"1989\": 356, \"1990\": 184, \"1991\": 500, \"1992\": 29, \"1994\": 21, \"1995\": 9, \"1996\": 7, \"1997\": 2},\n",
      "\"Turkey\":\n",
      "{\"1970\": 12, \"1971\": 35, \"1972\": 9, \"1974\": 1, \"1975\": 10, \"1976\": 35, \"1977\": 189, \"1978\": 52, \"1979\": 141, \"1980\": 95, \"1981\": 8, \"1982\": 5, \"1983\": 5, \"1984\": 19, \"1985\": 2, \"1986\": 7, \"1987\": 43, \"1988\": 42, \"1989\": 114, \"1990\": 195, \"1991\": 293, \"1992\": 514, \"1994\": 300, \"1995\": 133, \"1996\": 54, \"1997\": 44, \"1998\": 23, \"1999\": 109, \"2000\": 35, \"2001\": 19, \"2002\": 5, \"2003\": 19, \"2004\": 27, \"2005\": 41, \"2006\": 43, \"2007\": 30, \"2008\": 32, \"2009\": 13, \"2010\": 20, \"2011\": 51, \"2012\": 190, \"2013\": 42, \"2014\": 95, \"2015\": 425, \"2016\": 544, \"2017\": 181, \"2018\": 94, \"2019\": 70, \"2020\": 20},\n",
      "\"Thailand\":\n",
      "{\"1972\": 1, \"1974\": 1, \"1977\": 3, \"1978\": 5, \"1979\": 16, \"1980\": 26, \"1981\": 18, \"1982\": 3, \"1983\": 1, \"1984\": 1, \"1985\": 1, \"1986\": 3, \"1988\": 5, \"1989\": 16, \"1990\": 10, \"1991\": 8, \"1992\": 25, \"1994\": 24, \"1995\": 12, \"1996\": 19, \"1997\": 20, \"1998\": 4, \"1999\": 4, \"2000\": 4, \"2001\": 14, \"2002\": 12, \"2003\": 6, \"2004\": 44, \"2005\": 155, \"2006\": 202, \"2007\": 293, \"2008\": 200, \"2009\": 298, \"2010\": 253, \"2011\": 182, \"2012\": 280, \"2013\": 472, \"2014\": 423, \"2015\": 278, \"2016\": 329, \"2017\": 179, \"2018\": 182, \"2019\": 130, \"2020\": 39},\n",
      "\"Spain\":\n",
      "{\"1970\": 4, \"1971\": 22, \"1972\": 19, \"1973\": 21, \"1974\": 14, \"1975\": 136, \"1976\": 50, \"1977\": 147, \"1978\": 209, \"1979\": 279, \"1980\": 187, \"1981\": 107, \"1982\": 146, \"1983\": 122, \"1984\": 143, \"1985\": 114, \"1986\": 125, \"1987\": 104, \"1988\": 151, \"1989\": 142, \"1990\": 113, \"1991\": 89, \"1992\": 72, \"1994\": 55, \"1995\": 44, \"1996\": 63, \"1997\": 86, \"1998\": 17, \"1999\": 47, \"2000\": 112, \"2001\": 79, \"2002\": 41, \"2003\": 21, \"2004\": 31, \"2005\": 24, \"2006\": 23, \"2007\": 11, \"2008\": 37, \"2009\": 21, \"2010\": 3, \"2012\": 1, \"2013\": 5, \"2014\": 4, \"2015\": 1, \"2016\": 3, \"2017\": 4, \"2018\": 2, \"2019\": 4},\n",
      "\"United States\":\n",
      "{\"1970\": 468, \"1971\": 247, \"1972\": 68, \"1973\": 58, \"1974\": 94, \"1975\": 149, \"1976\": 105, \"1977\": 130, \"1978\": 87, \"1979\": 69, \"1980\": 67, \"1981\": 74, \"1982\": 77, \"1983\": 44, \"1984\": 63, \"1985\": 40, \"1986\": 49, \"1987\": 34, \"1988\": 27, \"1989\": 42, \"1990\": 32, \"1991\": 31, \"1992\": 32, \"1994\": 55, \"1995\": 60, \"1996\": 35, \"1997\": 42, \"1998\": 31, \"1999\": 54, \"2000\": 42, \"2001\": 47, \"2002\": 33, \"2003\": 35, \"2004\": 9, \"2005\": 21, \"2006\": 6, \"2007\": 11, \"2008\": 18, \"2009\": 12, \"2010\": 19, \"2011\": 9, \"2012\": 20, \"2013\": 20, \"2014\": 29, \"2015\": 41, \"2016\": 68, \"2017\": 66, \"2018\": 76, \"2019\": 72, \"2020\": 103},\n",
      "\"Sri Lanka\":\n",
      "{\"1975\": 1, \"1979\": 3, \"1981\": 2, \"1982\": 2, \"1983\": 7, \"1984\": 81, \"1985\": 110, \"1986\": 142, \"1987\": 115, \"1988\": 350, \"1989\": 510, \"1990\": 140, \"1991\": 115, \"1992\": 103, \"1994\": 35, \"1995\": 126, \"1996\": 176, \"1997\": 63, \"1998\": 35, \"1999\": 46, \"2000\": 67, \"2001\": 36, \"2002\": 3, \"2003\": 9, \"2004\": 33, \"2005\": 133, \"2006\": 216, \"2007\": 132, \"2008\": 100, \"2009\": 37, \"2010\": 3, \"2012\": 4, \"2013\": 14, \"2014\": 16, \"2015\": 11, \"2016\": 1, \"2017\": 41, \"2018\": 7, \"2019\": 15, \"2020\": 1},\n",
      "\"Syria\":\n",
      "{\"1974\": 4, \"1975\": 2, \"1976\": 2, \"1977\": 3, \"1978\": 1, \"1979\": 28, \"1980\": 33, \"1981\": 41, \"1982\": 20, \"1983\": 1, \"1984\": 1, \"1985\": 1, \"1986\": 4, \"1989\": 1, \"1996\": 2, \"1997\": 1, \"1998\": 1, \"2004\": 1, \"2006\": 1, \"2008\": 1, \"2011\": 49, \"2012\": 180, \"2013\": 287, \"2014\": 333, \"2015\": 491, \"2016\": 474, \"2017\": 250, \"2018\": 235, \"2019\": 293, \"2020\": 256},\n",
      "\"Algeria\":\n",
      "{\"1972\": 1, \"1976\": 1, \"1978\": 1, \"1979\": 1, \"1990\": 2, \"1991\": 30, \"1992\": 215, \"1994\": 227, \"1995\": 185, \"1996\": 129, \"1997\": 344, \"1998\": 151, \"1999\": 106, \"2000\": 138, \"2001\": 113, \"2002\": 132, \"2003\": 75, \"2004\": 67, \"2005\": 104, \"2006\": 152, \"2007\": 124, \"2008\": 107, \"2009\": 108, \"2010\": 100, \"2011\": 15, \"2012\": 41, \"2013\": 22, \"2014\": 13, \"2015\": 15, \"2016\": 9, \"2017\": 14, \"2018\": 7, \"2020\": 4},\n",
      "\"France\":\n",
      "{\"1972\": 11, \"1973\": 14, \"1974\": 29, \"1975\": 39, \"1976\": 58, \"1977\": 53, \"1978\": 59, \"1979\": 212, \"1980\": 94, \"1981\": 66, \"1982\": 62, \"1983\": 121, \"1984\": 145, \"1985\": 105, \"1986\": 95, \"1987\": 87, \"1988\": 54, \"1989\": 25, \"1990\": 30, \"1991\": 137, \"1992\": 126, \"1994\": 97, \"1995\": 71, \"1996\": 270, \"1997\": 130, \"1998\": 12, \"1999\": 46, \"2000\": 28, \"2001\": 21, \"2002\": 32, \"2003\": 34, \"2004\": 11, \"2005\": 33, \"2006\": 34, \"2007\": 16, \"2008\": 13, \"2009\": 9, \"2010\": 3, \"2011\": 8, \"2012\": 66, \"2013\": 18, \"2014\": 14, \"2015\": 38, \"2016\": 25, \"2017\": 42, \"2018\": 13, \"2019\": 21, \"2020\": 24},\n"
     ]
    }
   ],
   "source": [
    "import json\n",
    "# nkill2 = df.groupby('iyear')['nkill'].sum()\n",
    "# nwound2 = df.groupby('iyear')['nwound'].sum()\n",
    "nattack2 = df.groupby('iyear')['eventid'].count()\n",
    "nattack2_dict = nattack2.to_dict()\n",
    "json_str = json.dumps(nattack2_dict, ensure_ascii=False)\n",
    "\n",
    "print(f'\\\"total\\\":\\n{json_str},')\n",
    "for country in top18_countries:\n",
    "    json_str_country={}\n",
    "    # print(json_str_country)\n",
    "    df_country2 = df.loc[df['country_txt'] == country ]\n",
    "    nattack_country2 = df_country2.groupby('iyear')['eventid'].count()\n",
    "    # nkill_country2 = df_country2.groupby('iyear')['nkill'].sum()\n",
    "    # nwound_country2 = df_country2.groupby('iyear')['nwound'].sum()\n",
    "    # print(nattack_country2)\n",
    "    nattack2_country_dict = nattack_country2.to_dict()\n",
    "    json_str_country = json.dumps(nattack2_country_dict, ensure_ascii=False)\n",
    "    print(f'\\\"{country}\\\":\\n{json_str_country},')"
   ],
   "metadata": {
    "collapsed": false,
    "pycharm": {
     "name": "#%%\n"
    }
   }
  },
  {
   "cell_type": "code",
   "execution_count": null,
   "outputs": [],
   "source": [
    "import json\n",
    "nkill2 = df.groupby('iyear')['nkill'].sum()\n",
    "nwound2 = df.groupby('iyear')['nwound'].sum()\n",
    "nattack2 = df.groupby('iyear')['eventid'].count()\n",
    "nattack2_dict = nattack2.to_dict()\n",
    "json_str = json.dumps(nattack2_dict, ensure_ascii=False)\n",
    "\n",
    "print(f'\\\"total\\\":\\n{json_str},')\n",
    "for region in region_list:\n",
    "    json_str_country={}\n",
    "    # print(json_str_country)\n",
    "    df_country2 = df.loc[df['region_txt'] == region ]\n",
    "    nattack_country2 = df_country2.groupby('iyear')['eventid'].count()\n",
    "    nkill_country2 = df_country2.groupby('iyear')['nkill'].sum()\n",
    "    nwound_country2 = df_country2.groupby('iyear')['nwound'].sum()\n",
    "    # print(nattack_country2)\n",
    "    nattack2_country_dict = nattack_country2.to_dict()\n",
    "    json_str_country = json.dumps(nattack2_country_dict, ensure_ascii=False)\n",
    "    print(f'\\\"{region}\\\":\\n{json_str_country},')"
   ],
   "metadata": {
    "collapsed": false,
    "pycharm": {
     "name": "#%%\n"
    }
   }
  },
  {
   "cell_type": "code",
   "execution_count": 67,
   "outputs": [
    {
     "ename": "TypeError",
     "evalue": "cannot unpack non-iterable int object",
     "output_type": "error",
     "traceback": [
      "\u001B[1;31m---------------------------------------------------------------------------\u001B[0m",
      "\u001B[1;31mTypeError\u001B[0m                                 Traceback (most recent call last)",
      "Cell \u001B[1;32mIn[67], line 9\u001B[0m\n\u001B[0;32m      6\u001B[0m     result[\u001B[38;5;28mstr\u001B[39m(year)] \u001B[38;5;241m=\u001B[39m {}\n\u001B[0;32m      8\u001B[0m \u001B[38;5;66;03m# 将第一个数据集中每个年份的事件数量作为值添加到相应的子字典中\u001B[39;00m\n\u001B[1;32m----> 9\u001B[0m \u001B[38;5;28;01mfor\u001B[39;00m index, row \u001B[38;5;129;01min\u001B[39;00m nattack2:\n\u001B[0;32m     10\u001B[0m     year \u001B[38;5;241m=\u001B[39m \u001B[38;5;28mstr\u001B[39m(row[\u001B[38;5;124m\"\u001B[39m\u001B[38;5;124miyear\u001B[39m\u001B[38;5;124m\"\u001B[39m])\n\u001B[0;32m     11\u001B[0m     result[year][year] \u001B[38;5;241m=\u001B[39m \u001B[38;5;28mstr\u001B[39m(row[\u001B[38;5;124m\"\u001B[39m\u001B[38;5;124meventid\u001B[39m\u001B[38;5;124m\"\u001B[39m])\n",
      "\u001B[1;31mTypeError\u001B[0m: cannot unpack non-iterable int object"
     ]
    }
   ],
   "source": [
    "# 创建一个包含所有年份的空字典\n",
    "result = {}\n",
    "\n",
    "# 为每个年份创建一个子字典，并将它们添加到主字典中\n",
    "for year in range(1998, 2018):\n",
    "    result[str(year)] = {}\n",
    "\n",
    "# 将第一个数据集中每个年份的事件数量作为值添加到相应的子字典中\n",
    "for index, row in nattack2:\n",
    "    year = str(row[\"iyear\"])\n",
    "    result[year][year] = str(row[\"eventid\"])\n",
    "\n",
    "# 在主字典中添加 \"Country Code\"、\"Indicator Name\" 和 \"Indicator Code\" 键和相应的值\n",
    "result[\"Country Code\"] = \"DEU\"\n",
    "result[\"Indicator Name\"] = \"Population, total\"\n",
    "result[\"Indicator Code\"] = \"SP.POP.TOTL\"\n",
    "\n",
    "# 将结果输出为 JSON 格式\n",
    "import json\n",
    "print(json.dumps(result, indent=4))"
   ],
   "metadata": {
    "collapsed": false,
    "pycharm": {
     "name": "#%%\n"
    }
   }
  },
  {
   "cell_type": "code",
   "execution_count": null,
   "outputs": [],
   "source": [
    "# 按照 'region_txt' 列进行分组，并统计每个分组的行数\n",
    "region_counts = df1.groupby('region_txt').size()\n",
    "\n",
    "# 按照出现次数从高到低排序\n",
    "region_counts = region_counts.sort_values(ascending=False)\n",
    "print(region_counts)"
   ],
   "metadata": {
    "collapsed": false,
    "pycharm": {
     "name": "#%%\n"
    }
   }
  },
  {
   "cell_type": "code",
   "execution_count": null,
   "outputs": [],
   "source": [
    "region1 = df1.loc[(df1['region_txt'] == 'Middle East & North Africa') &(df['iyear']>=2001) ]\n",
    "print(region1)"
   ],
   "metadata": {
    "collapsed": false,
    "pycharm": {
     "name": "#%%\n"
    }
   }
  },
  {
   "cell_type": "code",
   "execution_count": null,
   "outputs": [],
   "source": [
    "country1 = region1.groupby('country_txt').size().sort_values(ascending=False)\n",
    "print(country1)"
   ],
   "metadata": {
    "collapsed": false,
    "pycharm": {
     "name": "#%%\n"
    }
   }
  },
  {
   "cell_type": "code",
   "execution_count": null,
   "outputs": [],
   "source": [
    "country = df1[['country_txt','country']]\n",
    "result = country.groupby('country_txt').count()\n",
    "print(result)"
   ],
   "metadata": {
    "collapsed": false,
    "pycharm": {
     "name": "#%%\n"
    }
   }
  },
  {
   "cell_type": "code",
   "execution_count": null,
   "outputs": [],
   "source": [
    "# 定义函数，用于统计子节点信息和各个子节点 region 出现的次数\n",
    "# def count_child_nodes(group):\n",
    "#     # 统计子节点信息\n",
    "#     child_nodes = []\n",
    "#     for i, row in group.iterrows():\n",
    "#         child_nodes.append({'id': str(i), 'parent': group['region_txt'].iloc[0], 'name': row['country_txt'], 'value': 1})\n",
    "#     # 统计各个子节点 region 出现的次数\n",
    "#     region_count = group.groupby('region_txt')['country_txt'].count().to_dict()\n",
    "#     # 将子节点信息和 region 出现次数合并\n",
    "#     for node in child_nodes:\n",
    "#         node['value'] = region_count[node['parent']]\n",
    "#     return child_nodes\n",
    "#\n",
    "# # 按照 'region' 列进行分组，并对每个分组应用 count_child_nodes 函数\n",
    "# result2 = df1.groupby('region_txt').apply(count_child_nodes)\n",
    "#\n",
    "# # 将结果展开成列表形式\n",
    "# result2 = [node for group in result for node in group]\n",
    "#\n",
    "# print(result2)"
   ],
   "metadata": {
    "collapsed": false,
    "pycharm": {
     "name": "#%%\n"
    }
   }
  }
 ],
 "metadata": {
  "kernelspec": {
   "name": "pycharm-274cda6b",
   "language": "python",
   "display_name": "PyCharm (MathematicalModeling-C-master)"
  },
  "language_info": {
   "codemirror_mode": {
    "name": "ipython",
    "version": 2
   },
   "file_extension": ".py",
   "mimetype": "text/x-python",
   "name": "python",
   "nbconvert_exporter": "python",
   "pygments_lexer": "ipython2",
   "version": "2.7.6"
  }
 },
 "nbformat": 4,
 "nbformat_minor": 0
}